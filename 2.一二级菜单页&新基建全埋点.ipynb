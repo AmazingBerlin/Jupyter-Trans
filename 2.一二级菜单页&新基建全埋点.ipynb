{
 "cells": [
  {
   "cell_type": "code",
   "execution_count": 1,
   "id": "8c44ecd2-e060-46c6-9fb5-e2b8aa06859b",
   "metadata": {},
   "outputs": [
    {
     "data": {
      "text/plain": [
       "['APP (1)', 'APP (2)', 'APP', 'MINI (1)', 'MINI (2)', 'MINI']"
      ]
     },
     "execution_count": 1,
     "metadata": {},
     "output_type": "execute_result"
    }
   ],
   "source": [
    "import re\n",
    "import pandas as pd\n",
    "import os\n",
    "path = r\"C:\\Users\\BCL0908\\Downloads\"\n",
    "name = os.listdir(path)\n",
    "\n",
    "# pattern=r\"(一二级菜单)(.*?)(\\.xlsx)$\"\n",
    "# fname = list(filter(lambda x: re.findall(pattern,x),name))\n",
    "fn=re.findall(\"一二级菜单.(.*?)\\.xlsx\", str(name))\n",
    "fn"
   ]
  },
  {
   "cell_type": "code",
   "execution_count": 2,
   "id": "5342c6f5-55bf-40f1-bfe0-4fdf1d146c29",
   "metadata": {},
   "outputs": [],
   "source": [
    "for i in fn:\n",
    "    \n",
    "    if i[:3]=='APP':\n",
    "        \n",
    "        file=\"一二级菜单—\"+i+\".xlsx\" \n",
    "        data = pd.read_excel(path+\"\\\\\"+file, sheet_name=0)\n",
    "        regexp = re.compile(r\"(.*?)\\.\")\n",
    "        data.rename(columns=lambda x: regexp.sub(\"\", x), inplace=True)\n",
    "        data10 = data.drop(\"keyvalue\", axis=1, inplace=False)\n",
    "        data11 = data[\"keyvalue\"].str.split(\"=\", expand=True)[1]\n",
    "        data13 = pd.concat([data10, data11], axis=1)\n",
    "        data13.columns = [\"startday\", \"eventid\", \"a_uv\", \"b_uv\", \"keyvalue\"]\n",
    "        data14 = data13[[\"keyvalue\", \"eventid\", \"a_uv\", \"b_uv\"]]\n",
    "\n",
    "        import numpy as np\n",
    "        data15 = data14.pivot_table(index=[\"eventid\", \"keyvalue\"], values=[\"a_uv\", \"b_uv\"], aggfunc=[np.sum])\n",
    "        data16=data15.copy().sort_values(by=[\"eventid\",(\"sum\",\"a_uv\")],ascending=[True,False])\n",
    "        import xlwings as xw\n",
    "        xw.view(data16)\n",
    "\n",
    "    elif i[:3]=='MIN':\n",
    "        \n",
    "        file=\"一二级菜单—\"+i+\".xlsx\"\n",
    "        data = pd.read_excel(path+\"\\\\\"+file, sheet_name=0)\n",
    "        regexp = re.compile(r\"(.*?)\\.\")\n",
    "        data.rename(columns=lambda x: regexp.sub(\"\", x), inplace=True)\n",
    "        data10 = data.drop(\"param\", axis=1, inplace=False)\n",
    "        data11 = data[\"param\"].str.split(\"=\", expand=True)[1]\n",
    "        data13 = pd.concat([data10, data11], axis=1)\n",
    "        data13.columns = [\"startday\", \"eventid\", \"a_uv\", \"b_uv\", \"param\"]\n",
    "        data14 = data13[[\"param\", \"eventid\", \"a_uv\", \"b_uv\"]]\n",
    "        \n",
    "        import numpy as np\n",
    "        data15 = data14.pivot_table(index=[\"eventid\", \"param\"], values=[\"a_uv\", \"b_uv\"], aggfunc=[np.sum])\n",
    "        data16=data15.copy().sort_values(by=[\"eventid\",(\"sum\",\"a_uv\")],ascending=[True,False])\n",
    "        import xlwings as xw\n",
    "        xw.view(data16)"
   ]
  },
  {
   "cell_type": "code",
   "execution_count": null,
   "id": "ef5ac410-6b3d-48c8-ab94-05f90492484b",
   "metadata": {},
   "outputs": [],
   "source": [
    "with pd.ExcelWriter(path+\"\\\\\"+file', mode=\"a\") as writer:\n",
    "     data16.to_excel(writer, sheet_name=\"pivot1\", index=True)"
   ]
  },
  {
   "cell_type": "code",
   "execution_count": null,
   "id": "f1b9547a-fb12-464e-bd90-dcf38fe547e8",
   "metadata": {},
   "outputs": [],
   "source": [
    "data15[data15[\"eventid\"].apply(lambda x:spilt(\"_\")[3])==\"primaryclassification\"]\n",
    "# data15.copy().sort_values(by=('a_uv'),ascending=False)"
   ]
  },
  {
   "cell_type": "code",
   "execution_count": null,
   "id": "be48b4ec-d3a3-49cc-ad53-ba56c3b7ccae",
   "metadata": {},
   "outputs": [],
   "source": []
  },
  {
   "cell_type": "code",
   "execution_count": null,
   "id": "584c325a-a765-4b23-98bb-7c4b2467c3c1",
   "metadata": {},
   "outputs": [],
   "source": []
  },
  {
   "cell_type": "code",
   "execution_count": null,
   "id": "05d284c2-c31e-48a7-bfe8-c23972cc3664",
   "metadata": {},
   "outputs": [],
   "source": []
  },
  {
   "cell_type": "code",
   "execution_count": 1,
   "id": "b5269ef0-37ba-4f2b-9dec-59ae88683ac2",
   "metadata": {},
   "outputs": [
    {
     "name": "stdout",
     "output_type": "stream",
     "text": [
      "Success\n"
     ]
    }
   ],
   "source": [
    "import os\n",
    "path = r\"C:\\Users\\BCL0908\\Downloads\"\n",
    "name = os.listdir(path)\n",
    "os.chdir(path)\n",
    "os.getcwd()\n",
    "# 当前路径下原文件不存在时，会报错且程序中断\n",
    "try:\n",
    "    os.rename(\"notebook-None.xlsx\",\"【外送】新基建APP.xlsx\")\n",
    "    os.rename(\"notebook-None (1).xlsx\",\"【扫码】新基建APP.xlsx\")\n",
    "    os.rename(\"notebook-None (2).xlsx\",\"【外带】新基建APP.xlsx\")\n",
    "    os.rename(\"notebook-None (3).xlsx\",\"【外送】新基建MINI.xlsx\")\n",
    "    os.rename(\"notebook-None (4).xlsx\",\"【扫码】新基建MINI.xlsx\")\n",
    "    os.rename(\"notebook-None (5).xlsx\",\"【外带】新基建MINI.xlsx\")\n",
    "    print(\"Success\")\n",
    "except:\n",
    "    print(\"Fail\")"
   ]
  },
  {
   "cell_type": "code",
   "execution_count": 2,
   "id": "fbec54fe-fef2-47c7-b06e-080710489155",
   "metadata": {
    "tags": []
   },
   "outputs": [
    {
     "data": {
      "text/plain": [
       "['【外带】新基建APP.xlsx',\n",
       " '【外带】新基建MINI.xlsx',\n",
       " '【外送】新基建APP.xlsx',\n",
       " '【外送】新基建MINI.xlsx',\n",
       " '【扫码】新基建APP.xlsx',\n",
       " '【扫码】新基建MINI.xlsx']"
      ]
     },
     "execution_count": 2,
     "metadata": {},
     "output_type": "execute_result"
    }
   ],
   "source": [
    "import re\n",
    "name=os.listdir(path)\n",
    "pattern=r\"【(.*?)新基建(.*?)(\\.xlsx)$\"\n",
    "fname = list(filter(lambda x: re.findall(pattern,x),name))\n",
    "fname"
   ]
  },
  {
   "cell_type": "code",
   "execution_count": 4,
   "id": "be5ff331-f35a-4652-9156-bae5dc7f0560",
   "metadata": {},
   "outputs": [],
   "source": [
    "import pandas as pd\n",
    "import numpy as np\n",
    "for i in fname:\n",
    "    data = pd.read_excel(path+\"\\\\\"+i, sheet_name=0)   \n",
    "    data1 = data.pivot_table(index=\"event_id\", values=[\"pv\", \"uv\"], aggfunc=[np.sum])\n",
    "    import xlwings as xw\n",
    "    xw.view(data1)"
   ]
  },
  {
   "cell_type": "code",
   "execution_count": null,
   "id": "2ea99348-ae62-4acf-b60a-afa3ad8df47e",
   "metadata": {},
   "outputs": [],
   "source": [
    "with pd.ExcelWriter(path+\"\\\\\"+i', mode=\"a\") as writer:\n",
    "     data5.to_excel(writer, sheet_name=\"pivot1\", index=True)"
   ]
  }
 ],
 "metadata": {
  "kernelspec": {
   "display_name": "Python 3 (ipykernel)",
   "language": "python",
   "name": "python3"
  },
  "language_info": {
   "codemirror_mode": {
    "name": "ipython",
    "version": 3
   },
   "file_extension": ".py",
   "mimetype": "text/x-python",
   "name": "python",
   "nbconvert_exporter": "python",
   "pygments_lexer": "ipython3",
   "version": "3.9.7"
  }
 },
 "nbformat": 4,
 "nbformat_minor": 5
}
